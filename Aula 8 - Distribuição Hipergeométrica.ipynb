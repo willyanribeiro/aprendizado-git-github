{
  "nbformat": 4,
  "nbformat_minor": 0,
  "metadata": {
    "colab": {
      "provenance": [],
      "authorship_tag": "ABX9TyMIbuwYCP41Qthnw18oJHx/",
      "include_colab_link": true
    },
    "kernelspec": {
      "name": "python3",
      "display_name": "Python 3"
    },
    "language_info": {
      "name": "python"
    }
  },
  "cells": [
    {
      "cell_type": "markdown",
      "metadata": {
        "id": "view-in-github",
        "colab_type": "text"
      },
      "source": [
        "<a href=\"https://colab.research.google.com/github/willyanribeiro/aprendizado-git-github/blob/main/Aula%208%20-%20Distribui%C3%A7%C3%A3o%20Hipergeom%C3%A9trica.ipynb\" target=\"_parent\"><img src=\"https://colab.research.google.com/assets/colab-badge.svg\" alt=\"Open In Colab\"/></a>"
      ]
    },
    {
      "cell_type": "markdown",
      "source": [
        "# Simulação Estocástica: Distribuição Hipergeométrica\n",
        "Considere um conjunto de N objetos, dos quais m são do tipo I e N-m são do tipo II. Para um sorteio de r objetos (r<N), feito ao acaso e sem reposição, defina: X: número de objetos selecionados do tipo I.\n",
        "<p> Então:\n",
        "P(X=k)=[C(N1,k) * C(N2,r−k)]/C(N,r) , N=N1+N2\n",
        "<p> Para gerarmos dados com uma distribuição geométrica, podemos usar a biblioteca Numpy."
      ],
      "metadata": {
        "id": "KufaXjyBX9iK"
      }
    },
    {
      "cell_type": "code",
      "execution_count": 2,
      "metadata": {
        "colab": {
          "base_uri": "https://localhost:8080/",
          "height": 319
        },
        "id": "Ujee7De5X7C_",
        "outputId": "163fcb1b-5e3f-4489-f74b-c54d5f897988"
      },
      "outputs": [
        {
          "output_type": "stream",
          "name": "stdout",
          "text": [
            "Valor esperado Teórico: 3.36\n",
            "Valor esperado pela simulação: 4.203\n"
          ]
        },
        {
          "output_type": "display_data",
          "data": {
            "text/plain": [
              "<Figure size 432x288 with 1 Axes>"
            ],
            "image/png": "[encoded data removed]"
          },
          "metadata": {
            "needs_background": "light"
          }
        }
      ],
      "source": [
        "import numpy as np\n",
        "import matplotlib.pyplot as plt\n",
        "\n",
        "N1 = 4 # number de elementos do tipo I\n",
        "N2 = 21 # numero de elementos do tipo II\n",
        "r = 5 # numero de objetos selecionados sem reposicao\n",
        "n = 10000 # numero de pontos extraídos da distribuição hipergeométrica\n",
        "X = np.random.hypergeometric(N2, N1, r, 1000)\n",
        "k = np.arange(0, np.max(X))\n",
        "print(\"Valor esperado Teórico:\", N2*N1/(N1+N2))\n",
        "print(\"Valor esperado pela simulação:\", np.sum(X)/len(X))\n",
        "\n",
        "count, bins, ignored = plt.hist(X, bins=k, density=True, color='#0504aa',alpha=0.7, \n",
        "                                rwidth=0.9)\n",
        "plt.xlabel('k', fontsize = 15)\n",
        "plt.ylabel('P(k)',fontsize = 15)\n",
        "plt.show(True)"
      ]
    }
  ]
}