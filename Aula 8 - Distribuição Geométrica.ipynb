{
  "nbformat": 4,
  "nbformat_minor": 0,
  "metadata": {
    "colab": {
      "provenance": [],
      "authorship_tag": "ABX9TyO4ZzJhFidXOs6cOeme8dWn",
      "include_colab_link": true
    },
    "kernelspec": {
      "name": "python3",
      "display_name": "Python 3"
    },
    "language_info": {
      "name": "python"
    }
  },
  "cells": [
    {
      "cell_type": "markdown",
      "metadata": {
        "id": "view-in-github",
        "colab_type": "text"
      },
      "source": [
        "<a href=\"https://colab.research.google.com/github/willyanribeiro/aprendizado-git-github/blob/main/Aula%208%20-%20Distribui%C3%A7%C3%A3o%20Geom%C3%A9trica.ipynb\" target=\"_parent\"><img src=\"https://colab.research.google.com/assets/colab-badge.svg\" alt=\"Open In Colab\"/></a>"
      ]
    },
    {
      "cell_type": "markdown",
      "source": [
        "# Simulação Estocástica: Distribuição Geométrica\n",
        "Uma variável aleatória X segue uma distribuição geométrica se:\n",
        "P(X=k)=p(1−p)^(k−1),k=0,1,…\n",
        "<p> Para gerarmos dados com uma distribuição geométrica, podemos usar a biblioteca Numpy.\n",
        "<p> Note que ao aumentar o valor de n (número de pontos extraídos de uma distrib. Geométrica) a curva gerada na simulação se aproxima cada vez mais da curva teórica."
      ],
      "metadata": {
        "id": "v1hoHBA_uZHW"
      }
    },
    {
      "cell_type": "code",
      "execution_count": 2,
      "metadata": {
        "colab": {
          "base_uri": "https://localhost:8080/",
          "height": 319
        },
        "id": "p4BiKqw0uV4I",
        "outputId": "8329129c-76c0-4a96-8a5d-ca31db7a5dd3"
      },
      "outputs": [
        {
          "output_type": "display_data",
          "data": {
            "text/plain": [
              "<Figure size 432x288 with 1 Axes>"
            ],
            "image/png": "[encoded data removed]"
          },
          "metadata": {
            "needs_background": "light"
          }
        },
        {
          "output_type": "stream",
          "name": "stdout",
          "text": [
            "Valor esperado Teórico: 5.0\n",
            "Valor esperado pela simulação: 4.9571\n"
          ]
        }
      ],
      "source": [
        "import numpy as np\n",
        "import matplotlib.pyplot as plt\n",
        "\n",
        "p = 0.2 # probabilidade de sucesso\n",
        "n = 10000 # numero de pontos extraídos de uma distribuição Geométrica\n",
        "X = np.random.geometric(p, size=n)\n",
        "k = np.arange(0, np.max(X))\n",
        "count, bins, ignored = plt.hist(X, bins=k, density=True, color='#0504aa',alpha=0.7, \n",
        "                                rwidth=0.9)\n",
        "plt.xlabel('k', fontsize = 15)\n",
        "plt.ylabel('P(k)',fontsize = 15)\n",
        "plt.show(True)\n",
        "print(\"Valor esperado Teórico:\", 1/p)\n",
        "print(\"Valor esperado pela simulação:\", np.sum(X)/len(X))"
      ]
    },
    {
      "cell_type": "markdown",
      "source": [
        "Para simularmos o experimento, vamos considerar experimentos que são realizados até que um sucesso ocorra. Seria como no lançamento de uma moeda, que é lançada até que uma cara (sucesso) ocorra. Notem que  X=k\n",
        "  indica  k\n",
        "  experimentos para que ocorram  k−1\n",
        "  falhas seguidas de um sucesso."
      ],
      "metadata": {
        "id": "7MmOY0O4vgNf"
      }
    },
    {
      "cell_type": "code",
      "source": [
        "from random import seed\n",
        "from matplotlib import pyplot as plt\n",
        "import numpy as np\n",
        "\n",
        "p = 0.2 #chance de sucesso\n",
        "X = [] # Armazena o número de experimentos\n",
        "ns = 10000 # numero de simulacoes\n",
        "\n",
        "for i in range(0,ns):# para ns simulacoes\n",
        "    k = 0 # numero de experimentos\n",
        "    s = False # indica uma falha\n",
        "    while s == False: # enquanto nao sair um sucesso, faca\n",
        "        r = np.random.uniform() # sorteia um numero entre 0 e 1\n",
        "        if(r <= p): # se o sucesso\n",
        "            s = True # indica sucesso\n",
        "            k = k + 1 # incrementa o numero de experimentos\n",
        "        else: # caso falha\n",
        "            k = k + 1 # incrementa o numero de experimentos\n",
        "    X.append(k) # guarda o numero de experimentos\n",
        "\n",
        "k = np.arange(0, np.max(X))\n",
        "count, bins, ignored = plt.hist(X, bins=k, density=True, color='#0504aa',alpha=0.7, \n",
        "                                rwidth=0.9)\n",
        "plt.xlabel('k', fontsize = 15)\n",
        "plt.ylabel('P(k)',fontsize = 15)\n",
        "plt.show(True)"
      ],
      "metadata": {
        "colab": {
          "base_uri": "https://localhost:8080/",
          "height": 284
        },
        "id": "ZupMx0T4viji",
        "outputId": "0f1af87b-14ee-4850-e4e1-54d79beec3f1"
      },
      "execution_count": 3,
      "outputs": [
        {
          "output_type": "display_data",
          "data": {
            "text/plain": [
              "<Figure size 432x288 with 1 Axes>"
            ],
            "image/png": "[encoded data removed]"
          },
          "metadata": {
            "needs_background": "light"
          }
        }
      ]
    },
    {
      "cell_type": "markdown",
      "source": [
        "# Valor esperado\n",
        "O valor esperado teórico:  E[X]=1/p"
      ],
      "metadata": {
        "id": "lgeUZrGsvqcd"
      }
    },
    {
      "cell_type": "code",
      "source": [
        "print(\"Valor esperado:\", 1/p)"
      ],
      "metadata": {
        "colab": {
          "base_uri": "https://localhost:8080/"
        },
        "id": "Ui7CNKhSvvlo",
        "outputId": "45055c90-dfed-4fe7-e197-4b26a9e46a3f"
      },
      "execution_count": 4,
      "outputs": [
        {
          "output_type": "stream",
          "name": "stdout",
          "text": [
            "Valor esperado: 5.0\n"
          ]
        }
      ]
    },
    {
      "cell_type": "markdown",
      "source": [
        "E através da simulação:\n",
        "μ = 1/ns * {i=1}{ns}∑Xi"
      ],
      "metadata": {
        "id": "x3Laa8Y4vy8q"
      }
    },
    {
      "cell_type": "code",
      "source": [
        "print(\"Valor esperado pela simulação:\", np.sum(X)/len(X))"
      ],
      "metadata": {
        "colab": {
          "base_uri": "https://localhost:8080/"
        },
        "id": "gnCqSUXEwTml",
        "outputId": "540f1eb9-3956-476a-c41b-0f6b719cbe18"
      },
      "execution_count": 5,
      "outputs": [
        {
          "output_type": "stream",
          "name": "stdout",
          "text": [
            "Valor esperado pela simulação: 4.9601\n"
          ]
        }
      ]
    },
    {
      "cell_type": "markdown",
      "source": [
        "# Variância\n",
        "A variância teórica:\n",
        "V(X)=(1−p)/p^2"
      ],
      "metadata": {
        "id": "jAbHoLPUwVtG"
      }
    },
    {
      "cell_type": "code",
      "source": [
        "print(\"Variância teórica:\", (1-p)/p**2)"
      ],
      "metadata": {
        "colab": {
          "base_uri": "https://localhost:8080/"
        },
        "id": "V46HagTswd66",
        "outputId": "38608847-8e97-47fe-c6a0-f7d6b21e0117"
      },
      "execution_count": 6,
      "outputs": [
        {
          "output_type": "stream",
          "name": "stdout",
          "text": [
            "Variância teórica: 19.999999999999996\n"
          ]
        }
      ]
    },
    {
      "cell_type": "markdown",
      "source": [
        "Pela simulação:\n",
        "V(X)=1/ns * {i=1}{ns}∑Xi^2−μ^2"
      ],
      "metadata": {
        "id": "1pUVS19TwhBL"
      }
    },
    {
      "cell_type": "code",
      "source": [
        "def Variance(X):\n",
        "    n = len(X)\n",
        "    E2 = 0\n",
        "    E = 0\n",
        "    for i in range(0,len(X)):\n",
        "        E2 = E2 + X[i]**2\n",
        "        E = E + X[i]\n",
        "    E2 = E2/n\n",
        "    E = E/n\n",
        "    V = E2 - (E)**2\n",
        "    return V\n",
        "    \n",
        "print(\"Variância calculada pela simulação:\", Variance(X))"
      ],
      "metadata": {
        "colab": {
          "base_uri": "https://localhost:8080/"
        },
        "id": "0Ir6l5l-wzES",
        "outputId": "df9a1d4c-dd89-466c-a19e-e55e078184d1"
      },
      "execution_count": 7,
      "outputs": [
        {
          "output_type": "stream",
          "name": "stdout",
          "text": [
            "Variância calculada pela simulação: 19.724307990000003\n"
          ]
        }
      ]
    }
  ]
}