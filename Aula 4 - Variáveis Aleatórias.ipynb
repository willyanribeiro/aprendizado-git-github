{
  "nbformat": 4,
  "nbformat_minor": 0,
  "metadata": {
    "colab": {
      "provenance": [],
      "authorship_tag": "ABX9TyOA7jGcp7I04NEv3Xx05dsx",
      "include_colab_link": true
    },
    "kernelspec": {
      "name": "python3",
      "display_name": "Python 3"
    },
    "language_info": {
      "name": "python"
    }
  },
  "cells": [
    {
      "cell_type": "markdown",
      "metadata": {
        "id": "view-in-github",
        "colab_type": "text"
      },
      "source": [
        "<a href=\"https://colab.research.google.com/github/willyanribeiro/aprendizado-git-github/blob/main/Aula%204%20-%20Vari%C3%A1veis%20Aleat%C3%B3rias.ipynb\" target=\"_parent\"><img src=\"https://colab.research.google.com/assets/colab-badge.svg\" alt=\"Open In Colab\"/></a>"
      ]
    },
    {
      "cell_type": "markdown",
      "source": [
        "#Aula 4 - Variáveis Aleatórias\n",
        "Exemplo:\n",
        "Um jogador paga 5 reais para participar de um jogo de dados, disputando com o oponente quem tem o ponto maior. O jogador e o oponente lançam cada um o seu dado e a seguinte regra de premiação é estabelecida:\n",
        "\n",
        "<p> (i) Se o ponto do jogador é maior, ele ganha 2 vezes a diferença entre o seu ponto e o obtido pelo oponente. </p>\n",
        "<p> (ii) Se o ponto do jogador é menor ou igual ao do oponente, ele não ganha nada. </p> \n",
        "\n",
        "Esse jogo é favorável ao jogador?\n",
        "\n",
        "<p> Observação: Note que quanto mais aumentamos o valor de Ns (número de jogos), mais a probabilidade se aproxima do valor teórico encontrado, que é de 0,16666... </p>"
      ],
      "metadata": {
        "id": "uwFR0kRl4GqZ"
      }
    },
    {
      "cell_type": "code",
      "execution_count": null,
      "metadata": {
        "colab": {
          "base_uri": "https://localhost:8080/"
        },
        "id": "3QIjTITg4ELr",
        "outputId": "ad4a0ec3-8de3-4e43-ef28-e99e405be8c8"
      },
      "outputs": [
        {
          "output_type": "stream",
          "name": "stdout",
          "text": [
            "Aposta: 5 reais.\n",
            "Chance de lucro: 0.1611\n"
          ]
        }
      ],
      "source": [
        "from random import randint\n",
        "aposta = 5\n",
        "Ns = 10000 # numero de jogos\n",
        "p = 0\n",
        "for n in range(1,Ns):\n",
        "    G = 0\n",
        "    j = randint(1, 6) # valor do jogador\n",
        "    b = randint(1, 6) # valor do oponente\n",
        "    if(j > b): # se o valor do jogador eh maior\n",
        "        G = 2*(j-b)\n",
        "    if(G > aposta): # se houver lucro\n",
        "        p = p + 1\n",
        "p = p/Ns # probabilidade de ter lucro\n",
        "print('Aposta:', aposta, 'reais.')\n",
        "print(\"Chance de lucro:\", p)\n",
        "\n"
      ]
    }
  ]
}