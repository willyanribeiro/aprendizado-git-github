{
  "nbformat": 4,
  "nbformat_minor": 0,
  "metadata": {
    "colab": {
      "provenance": [],
      "authorship_tag": "ABX9TyNfzXog4on4mB/fvnpNrKCo",
      "include_colab_link": true
    },
    "kernelspec": {
      "name": "python3",
      "display_name": "Python 3"
    },
    "language_info": {
      "name": "python"
    }
  },
  "cells": [
    {
      "cell_type": "markdown",
      "metadata": {
        "id": "view-in-github",
        "colab_type": "text"
      },
      "source": [
        "<a href=\"https://colab.research.google.com/github/willyanribeiro/aprendizado-git-github/blob/main/Aula%204%20-%20Vari%C3%A1veis%20Aleat%C3%B3rias.ipynb\" target=\"_parent\"><img src=\"https://colab.research.google.com/assets/colab-badge.svg\" alt=\"Open In Colab\"/></a>"
      ]
    },
    {
      "cell_type": "markdown",
      "source": [
        "#Aula 4 - Variáveis Aleatórias\n",
        "Exemplo:\n",
        "Um jogador paga 5 reais para participar de um jogo de dados, disputando com o oponente quem tem o ponto maior. O jogador e o oponente lançam cada um o seu dado e a seguinte regra de premiação é estabelecida:\n",
        "\n",
        "<p> (i) Se o ponto do jogador é maior, ele ganha 2 vezes a diferença entre o seu ponto e o obtido pelo oponente. </p>\n",
        "<p> (ii) Se o ponto do jogador é menor ou igual ao do oponente, ele não ganha nada. </p> \n",
        "\n",
        "Esse jogo é favorável ao jogador?\n",
        "\n",
        "<p> Observação: Note que quanto mais aumentamos o valor de Ns (número de jogos), mais a probabilidade se aproxima do valor teórico encontrado, que é de 0,16666... </p>"
      ],
      "metadata": {
        "id": "uwFR0kRl4GqZ"
      }
    },
    {
      "cell_type": "code",
      "execution_count": 15,
      "metadata": {
        "colab": {
          "base_uri": "https://localhost:8080/",
          "height": 436
        },
        "id": "3QIjTITg4ELr",
        "outputId": "bfa0363d-25b2-4ea2-98f1-2ae2890b3ae5"
      },
      "outputs": [
        {
          "output_type": "stream",
          "name": "stdout",
          "text": [
            "Aposta: 5 reais.\n",
            "Chance de lucro: 0.1636\n"
          ]
        },
        {
          "output_type": "display_data",
          "data": {
            "text/plain": [
              "<Figure size 720x432 with 1 Axes>"
            ],
            "image/png": "[encoded data removed]"
          },
          "metadata": {
            "needs_background": "light"
          }
        }
      ],
      "source": [
        "from random import randint\n",
        "from matplotlib import pyplot as plt\n",
        "aposta = 5\n",
        "vp = [] # lista que armazena a frequencia de ocorrencias\n",
        "vsim = [] # armazena o numero de simulacoes\n",
        "Ns = 10000 # numero de jogos\n",
        "p = 0\n",
        "for n in range(1,Ns):\n",
        "    G = 0\n",
        "    j = randint(1, 6) # valor do jogador\n",
        "    b = randint(1, 6) # valor do oponente\n",
        "    if(j > b): # se o valor do jogador eh maior\n",
        "        G = 2*(j-b)\n",
        "    if(G > aposta): # se houver lucro\n",
        "        p = p + 1\n",
        "p = p/Ns # probabilidade de ter lucro\n",
        "vp.append(p/n)\n",
        "vsim.append(n)\n",
        "print('Aposta:', aposta, 'reais.')\n",
        "print(\"Chance de lucro:\", p)\n",
        "\n",
        "# Mostra os resultados em uma figura\n",
        "plt.figure(figsize=(10,6))\n",
        "plt.plot(vsim, vp, linestyle='-', color=\"blue\", linewidth=2,label = 'Ganho simulado')\n",
        "plt.axhline(y=p, color='r', linestyle='--', label = 'Ganho teorico')\n",
        "plt.ylabel(\"Chance de Lucro\", fontsize=20)\n",
        "plt.xlabel(\"Numero de experimentos\", fontsize=20)\n",
        "plt.xlim([0.0, Ns])\n",
        "plt.ylim([0.0, 1.0])\n",
        "plt.legend()\n",
        "#plt.savefig('valeatories.eps')\n",
        "plt.show(True) \n"
      ]
    }
  ]
}